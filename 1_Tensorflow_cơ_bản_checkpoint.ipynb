{
  "nbformat": 4,
  "nbformat_minor": 0,
  "metadata": {
    "colab": {
      "name": "1.Tensorflow cơ bản-checkpoint.ipynb",
      "provenance": [],
      "private_outputs": true,
      "include_colab_link": true
    },
    "kernelspec": {
      "name": "python2",
      "display_name": "Python 2"
    },
    "accelerator": "GPU"
  },
  "cells": [
    {
      "cell_type": "markdown",
      "metadata": {
        "id": "view-in-github",
        "colab_type": "text"
      },
      "source": [
        "<a href=\"https://colab.research.google.com/github/doanxuantambk/tensorflow_for_ai/blob/master/1_Tensorflow_c%C6%A1_b%E1%BA%A3n_checkpoint.ipynb\" target=\"_parent\"><img src=\"https://colab.research.google.com/assets/colab-badge.svg\" alt=\"Open In Colab\"/></a>"
      ]
    },
    {
      "cell_type": "markdown",
      "metadata": {
        "id": "sKBm_KfUm9fR",
        "colab_type": "text"
      },
      "source": [
        "để lắp đặt:\n",
        "    https://www.tensorflow.org/install/"
      ]
    },
    {
      "cell_type": "code",
      "metadata": {
        "id": "8_M_jkRGm9fZ",
        "colab_type": "code",
        "colab": {}
      },
      "source": [
        "import tensorflow as tf\n",
        "import numpy as np"
      ],
      "execution_count": null,
      "outputs": []
    },
    {
      "cell_type": "markdown",
      "metadata": {
        "id": "jQ8EgAUfm9fo",
        "colab_type": "text"
      },
      "source": [
        "Một tensor thì cũng khá giống một array nhiều chiều. Cụ thể thì tensor 0 chiều là hằng số, tensor một chiều là vector, tensor 2 chiều là ma trận,..."
      ]
    },
    {
      "cell_type": "code",
      "metadata": {
        "id": "DGbd9EAWm9fr",
        "colab_type": "code",
        "colab": {}
      },
      "source": [
        "a = tf.zeros((2,2))\n",
        "b = tf.ones((2,2))"
      ],
      "execution_count": null,
      "outputs": []
    },
    {
      "cell_type": "code",
      "metadata": {
        "id": "QLIjDOrpm9f1",
        "colab_type": "code",
        "colab": {}
      },
      "source": [
        "a.get_shape()"
      ],
      "execution_count": null,
      "outputs": []
    },
    {
      "cell_type": "code",
      "metadata": {
        "id": "5hleMI8wm9gE",
        "colab_type": "code",
        "colab": {}
      },
      "source": [
        "# reshape a tensor: thay đổi hình dạng tensor\n",
        "tf.reshape(a,(1,4))"
      ],
      "execution_count": null,
      "outputs": []
    },
    {
      "cell_type": "markdown",
      "metadata": {
        "id": "Pm2uDu_Bm9gP",
        "colab_type": "text"
      },
      "source": [
        "Phép cộng 2 tensor qua việc chạy một session:  "
      ]
    },
    {
      "cell_type": "code",
      "metadata": {
        "id": "DDeWeEd4m9gT",
        "colab_type": "code",
        "colab": {}
      },
      "source": [
        "a = tf.constant(1)\n",
        "b = tf.constant(5)\n",
        "c = a*b\n",
        "with tf.Session() as s: # khởi tạo quá trình\n",
        "    # các phép toán thực hiện trong qúa trình:\n",
        "    print(c.eval()) # eval là viết tắt cho evaluate\n",
        "    print(s.run(c))"
      ],
      "execution_count": null,
      "outputs": []
    },
    {
      "cell_type": "markdown",
      "metadata": {
        "id": "8ib8S-bcm9gg",
        "colab_type": "text"
      },
      "source": [
        "các loại dữ tensor: xem\n",
        "https://www.tensorflow.org/api_docs/python/tf/DType\n",
        "\n",
        "# Tensorflow và numpy:\n",
        "\n",
        "khi ta gọi hàm ``eval`` thì kết quả trả về là một numpy object. Chú ý là một tensor object cũng giống như một biến trong một hàm toán học. Chúng là symbolic nên ta phải gọi eval() để tính toán.\n",
        "\n",
        "ngược lại, ta cũng có thể biến một numpy array thành tensor:"
      ]
    },
    {
      "cell_type": "code",
      "metadata": {
        "id": "zn_6vPLkm9gl",
        "colab_type": "code",
        "colab": {}
      },
      "source": [
        "s = tf.Session() # bắt đầu một quá trình (session)\n",
        "x = np.array([[2,1],[2,4]])\n",
        "x = tf.convert_to_tensor(x,dtype = tf.float32)\n",
        "x"
      ],
      "execution_count": null,
      "outputs": []
    },
    {
      "cell_type": "markdown",
      "metadata": {
        "id": "8U-zen1Hm9g0",
        "colab_type": "text"
      },
      "source": [
        "# Variable: biến ngẫu nhiên\n",
        "\n",
        "Việc tính toán trong tensorflow được thực hiện theo kiểu graph (đồ thị). Một đồ thị như vậy được chạy rất nhiều lần. Các tham số mô hình thì thường được lưu dưới dạng ``tf.Variable`` và được cập nhật  mỗi lần train cái graph. "
      ]
    },
    {
      "cell_type": "code",
      "metadata": {
        "id": "DS_HKGRGm9g7",
        "colab_type": "code",
        "colab": {}
      },
      "source": [
        "rw = tf.Variable(tf.random_normal((2,2)),name='random_weights')\n",
        "rw"
      ],
      "execution_count": null,
      "outputs": []
    },
    {
      "cell_type": "markdown",
      "metadata": {
        "id": "y7kQgPIom9hK",
        "colab_type": "text"
      },
      "source": [
        "Khi chạy, ta phải initialize giá trị của các biến có trong session (khởi tạo giá trị) bằng ``tf.global_variables_initializer()``, sau đó mới chạy quá trình:"
      ]
    },
    {
      "cell_type": "code",
      "metadata": {
        "id": "7GP4Mif8m9hN",
        "colab_type": "code",
        "colab": {}
      },
      "source": [
        "with tf.Session() as s:\n",
        "    s.run(tf.global_variables_initializer())\n",
        "    print(s.run(rw))"
      ],
      "execution_count": null,
      "outputs": []
    },
    {
      "cell_type": "code",
      "metadata": {
        "id": "xQeackGUm9hW",
        "colab_type": "code",
        "colab": {}
      },
      "source": [
        "# Tensorflow variable state update: cập nhật trạng thái của tensor\n",
        "var1 = tf.Variable(0,name='Var1')\n",
        "add_op = tf.add(var1,tf.constant(1))\n",
        "upd_op = tf.assign(var1,add_op)\n",
        "final_op = add_op*2\n",
        "with tf.Session() as s:\n",
        "    s.run(tf.global_variables_initializer())\n",
        "    for i in range(5):\n",
        "        print(s.run([upd_op,final_op]))"
      ],
      "execution_count": null,
      "outputs": []
    },
    {
      "cell_type": "code",
      "metadata": {
        "scrolled": true,
        "id": "2vA5q9EBm9hh",
        "colab_type": "code",
        "colab": {}
      },
      "source": [
        "a = np.ones((3,3))\n",
        "b = tf.convert_to_tensor(a)\n",
        "with tf.Session() as s:\n",
        "    print(s.run(b))"
      ],
      "execution_count": null,
      "outputs": []
    },
    {
      "cell_type": "markdown",
      "metadata": {
        "id": "BzrpcVLbm9hr",
        "colab_type": "text"
      },
      "source": [
        "# Place holder & Feed dictionary:\n",
        "trong tensorflow, ta feed data vào mô hình (cho mô hình ăn dữ liệu) và chạy để nó trả ra output. Để làm điều này, ta dùng ``tf.placeholder`` để hold (giữ đồ ăn) và Feed Dictionary là dictionary chứa dữ liệu đi vào.\n",
        "\n",
        "Ví dụ về phép nhân ma trận:"
      ]
    },
    {
      "cell_type": "code",
      "metadata": {
        "id": "TAClQNlFm9ht",
        "colab_type": "code",
        "colab": {}
      },
      "source": [
        "inp1 = tf.placeholder(tf.float32,shape = (1,2))\n",
        "inp2 = tf.placeholder(tf.float32,shape = (2,1))\n",
        "output = tf.matmul(inp1,inp2)\n",
        "with tf.Session() as s:\n",
        "    print(s.run([output], feed_dict = {inp1:[[1,3]], inp2:[[1],[3]]}))"
      ],
      "execution_count": null,
      "outputs": []
    },
    {
      "cell_type": "markdown",
      "metadata": {
        "id": "d78_WfZXm9h4",
        "colab_type": "text"
      },
      "source": [
        "Tham khảo: Building Machine Learning Projects with Tensorflow (2016, Packt Publishing)"
      ]
    },
    {
      "cell_type": "code",
      "metadata": {
        "id": "veD4lIJqm9h8",
        "colab_type": "code",
        "colab": {}
      },
      "source": [
        ""
      ],
      "execution_count": null,
      "outputs": []
    }
  ]
}